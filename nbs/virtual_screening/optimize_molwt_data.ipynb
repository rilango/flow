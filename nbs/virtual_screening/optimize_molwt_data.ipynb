{
 "cells": [
  {
   "cell_type": "code",
   "execution_count": 1,
   "metadata": {},
   "outputs": [],
   "source": [
    "import sys\n",
    "sys.path.append('/workspace/')\n",
    "\n",
    "import sqlite3\n",
    "import mols2grid\n",
    "import importlib\n",
    "import pickle\n",
    "import itertools\n",
    "import concurrent\n",
    "import pandas as pd\n",
    "\n",
    "import numpy as np\n",
    "import pandas as pd\n",
    "\n",
    "import cuml\n",
    "import cupy as cp\n",
    "\n",
    "from functools import partial\n",
    "from subprocess import run\n",
    "from rdkit import Chem\n",
    "from rdkit.Chem import Draw, QED, Descriptors, Lipinski, rdDistGeom, rdmolfiles\n",
    "\n",
    "from flow.pipeline.screening.pose_generate import score_molecule, generate_conformers\n",
    "from flow.utils.megamolbart import smiles_to_embedding, embedding_to_smiles, sample\n",
    "\n",
    "import warnings\n",
    "warnings.filterwarnings('ignore')\n",
    "\n",
    "# Code to disable rdkit errors and warning\n",
    "import rdkit.rdBase as rkrb\n",
    "import rdkit.RDLogger as rkl\n",
    "\n",
    "log = rkl.logger()\n",
    "log.setLevel(rkl.ERROR)\n",
    "rkrb.DisableLog('rdApp.error')"
   ]
  },
  {
   "cell_type": "code",
   "execution_count": 2,
   "metadata": {},
   "outputs": [],
   "source": [
    "workspace = '/content/28b0e566-a15a-11ec-83ca-7de881115940'\n",
    "\n",
    "receptor_file = f'{workspace}/inputs/rec.pdbqt'\n",
    "score_config = f'{workspace}/inputs/config'"
   ]
  },
  {
   "cell_type": "markdown",
   "metadata": {
    "tags": []
   },
   "source": [
    "#### Please start MegaMolBART service before this cell\n",
    "```\n",
    "docker-compose --env-file .env\\\n",
    "                -f support/docker/megamolbart/docker-compose.yml\\\n",
    "                up  --scale megamolbart=2\n",
    "```"
   ]
  },
  {
   "cell_type": "code",
   "execution_count": 3,
   "metadata": {},
   "outputs": [
    {
     "name": "stdout",
     "output_type": "stream",
     "text": [
      "CPU times: user 324 ms, sys: 15.3 ms, total: 339 ms\n",
      "Wall time: 338 ms\n"
     ]
    }
   ],
   "source": [
    "%%time\n",
    "db_url = '/data/chembl.db'\n",
    "conn = sqlite3.connect(db_url, uri=True)\n",
    "generation = 0\n",
    "\n",
    "df = pd.read_sql(\n",
    "    '''\n",
    "    SELECT canonical_smiles as smiles\n",
    "    FROM compound_structures \n",
    "    ORDER BY random()\n",
    "    LIMIT 100\n",
    "    ''', \n",
    "    con=conn)"
   ]
  },
  {
   "cell_type": "code",
   "execution_count": 4,
   "metadata": {},
   "outputs": [
    {
     "name": "stdout",
     "output_type": "stream",
     "text": [
      "CPU times: user 12.2 s, sys: 2.11 s, total: 14.3 s\n",
      "Wall time: 11min 38s\n"
     ]
    }
   ],
   "source": [
    "%%time\n",
    "\n",
    "x0_smis = []\n",
    "x0_dims = []\n",
    "x0_embs = []\n",
    "y0_scrs = []\n",
    "\n",
    "x1_smis = []\n",
    "x1_dims = []\n",
    "x1_embs = []\n",
    "y1_scrs = []\n",
    "\n",
    "for smi in df['smiles'].tolist():\n",
    "    embs = None\n",
    "    while True:\n",
    "        try:\n",
    "            embs = sample(smi,\n",
    "                          num_sample=1, \n",
    "                          padding_size=512,\n",
    "                          service_port='localhost:50052')\n",
    "        except Exception as ex:\n",
    "            print(ex)\n",
    "            break\n",
    "        ip = embs[0]\n",
    "        op = embs[1]\n",
    "        \n",
    "        ip_emb = ip['embedding']\n",
    "        op_emb = op['embedding']\n",
    "        \n",
    "        op_mol = Chem.MolFromSmiles(op['smiles'])\n",
    "        if op_mol is None or ip['smiles'] == op['smiles']:\n",
    "            # print(f'{x1_smi} is invalid or same as input {x0_smi}')\n",
    "            continue\n",
    "\n",
    "        x0_embs.append(cp.reshape(cp.array(ip_emb.embedding), ip_emb.dim))\n",
    "        x0_dims.append(list(ip_emb.dim))\n",
    "        x0_smis.append(ip['smiles'])\n",
    "        y0_scrs.append(Descriptors.MolWt(Chem.MolFromSmiles(ip['smiles'])))\n",
    "\n",
    "        x1_embs.append(cp.reshape(cp.array(op_emb.embedding), op_emb.dim))\n",
    "        x1_dims.append(list(op_emb.dim))\n",
    "        x1_smis.append(op['smiles'])\n",
    "        y1_scrs.append(Descriptors.MolWt(op_mol))\n",
    "        break"
   ]
  },
  {
   "cell_type": "code",
   "execution_count": 5,
   "metadata": {},
   "outputs": [],
   "source": [
    "# y1_scrs[:5], len(y1_scrs)"
   ]
  },
  {
   "cell_type": "markdown",
   "metadata": {},
   "source": [
    "Filter the matching input and sample pairs."
   ]
  },
  {
   "cell_type": "code",
   "execution_count": 6,
   "metadata": {},
   "outputs": [],
   "source": [
    "data = dict({\n",
    "    'x0_smis': x0_smis,\n",
    "    'x0_dims': x0_dims,\n",
    "    'x0_embs': x0_embs,\n",
    "    'y0_scrs': y0_scrs,\n",
    "    'x1_smis': x1_smis,\n",
    "    'x1_dims': x1_dims,\n",
    "    'x1_embs': x1_embs,\n",
    "    'y1_scrs': y1_scrs\n",
    "    })\n",
    "\n",
    "with open('/workspace/test_data.pkl', 'wb') as file:\n",
    "    # A new file will be created\n",
    "    pickle.dump(data, file)"
   ]
  },
  {
   "cell_type": "code",
   "execution_count": 7,
   "metadata": {},
   "outputs": [],
   "source": [
    "with open('/workspace/test_data.pkl', 'rb') as file:\n",
    "    # A new file will be created\n",
    "    data = pickle.load(file)"
   ]
  },
  {
   "cell_type": "code",
   "execution_count": 8,
   "metadata": {},
   "outputs": [],
   "source": [
    "# data"
   ]
  }
 ],
 "metadata": {
  "kernelspec": {
   "display_name": "Python 3.10.4 64-bit",
   "language": "python",
   "name": "python3"
  },
  "language_info": {
   "codemirror_mode": {
    "name": "ipython",
    "version": 3
   },
   "file_extension": ".py",
   "mimetype": "text/x-python",
   "name": "python",
   "nbconvert_exporter": "python",
   "pygments_lexer": "ipython3",
   "version": "3.10.4"
  },
  "vscode": {
   "interpreter": {
    "hash": "31f2aee4e71d21fbe5cf8b01ff0e069b9275f58929596ceb00d14d90e3e16cd6"
   }
  }
 },
 "nbformat": 4,
 "nbformat_minor": 4
}
