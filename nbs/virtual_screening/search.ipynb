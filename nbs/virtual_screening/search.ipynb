{
 "cells": [
  {
   "cell_type": "code",
   "execution_count": null,
   "metadata": {},
   "outputs": [],
   "source": [
    "import sys\n",
    "sys.path.append('../../')\n",
    "\n",
    "import os\n",
    "import re\n",
    "import math\n",
    "import grpc\n",
    "import sqlite3\n",
    "import numpy as np\n",
    "import pandas as pd\n",
    "import cuml\n",
    "import cupy as cp\n",
    "import cudf as cd\n",
    "from importlib import reload\n",
    "\n",
    "from sklearn.linear_model import Ridge\n",
    "from subprocess import run\n",
    "\n",
    "from rdkit import Chem\n",
    "from rdkit.Chem import Draw, QED, Descriptors, Lipinski, rdDistGeom, rdmolfiles\n",
    "from flow.utils.megamolbart import sample, interpolate, smiles_to_embedding\n",
    "from generativesampler_pb2 import GenerativeSpec, GenerativeModel, EmbeddingList\n",
    "from generativesampler_pb2_grpc import GenerativeSamplerStub"
   ]
  },
  {
   "cell_type": "code",
   "execution_count": null,
   "metadata": {},
   "outputs": [],
   "source": [
    "%%time\n",
    "db_file = '/content/6e6e2b68-9ef8-11ec-83ca-7de881115940/common.sqlite3'\n",
    "\n",
    "conn = sqlite3.connect(db_file, uri=True)\n",
    "df = pd.read_sql(\n",
    "    '''\n",
    "    SELECT generated_smiles.smiles, \n",
    "           generated_smiles.embedding, \n",
    "           generated_smiles.embedding_dim,\n",
    "           generated_smiles.score\n",
    "    FROM generated_smiles \n",
    "    WHERE score is not null\n",
    "    ''', \n",
    "    con=conn)\n",
    "# orig_embs = []\n",
    "# embs = []\n",
    "# dims = []\n",
    "# for smiles in df['smiles'].tolist():\n",
    "#     # print(f'Coverting {smiles} to embedding...')\n",
    "#     emb = smiles_to_embedding(smiles)\n",
    "#     orig_embs.append(emb)\n",
    "#     embs.append(list(emb.embedding))\n",
    "#     dims.append(list(emb.dim))\n",
    "\n",
    "# scores = cp.array(df['score'])\n",
    "df"
   ]
  },
  {
   "cell_type": "code",
   "execution_count": null,
   "metadata": {},
   "outputs": [],
   "source": [
    "y = cp.asnumpy(scores)\n",
    "X = cp.asnumpy(embs)\n",
    "\n",
    "clf = Ridge(alpha=1.0)\n",
    "clf.fit(X, y);"
   ]
  },
  {
   "cell_type": "code",
   "execution_count": null,
   "metadata": {},
   "outputs": [],
   "source": [
    "min_idx = np.argmin(y)\n",
    "\n",
    "orig_emb = orig_embs[min_idx]\n",
    "dim = orig_emb.dim\n",
    "mask = orig_emb.pad_mask"
   ]
  },
  {
   "cell_type": "code",
   "execution_count": null,
   "metadata": {},
   "outputs": [],
   "source": [
    "direction = clf.coef_\n",
    "emb_std = np.std(embs, axis=0)"
   ]
  },
  {
   "cell_type": "code",
   "execution_count": null,
   "metadata": {},
   "outputs": [],
   "source": [
    "min_idx = np.argmin(y)\n",
    "max_idx = np.argmax(y)\n",
    "\n",
    "emb_min = np.array(embs[min_idx])\n",
    "emb_max = np.array(embs[max_idx])\n",
    "diff = np.linalg.norm(emb_max - emb_min) / math.sqrt(emb_max.shape[0])"
   ]
  },
  {
   "cell_type": "code",
   "execution_count": null,
   "metadata": {},
   "outputs": [],
   "source": [
    "direction_sampled = np.random.normal(loc=direction, scale=emb_std, size=emb_std.shape)"
   ]
  },
  {
   "cell_type": "code",
   "execution_count": null,
   "metadata": {},
   "outputs": [],
   "source": [
    "# diff, emb_min, emb_max, emb_max.shape[0]\n",
    "diff"
   ]
  },
  {
   "cell_type": "code",
   "execution_count": null,
   "metadata": {},
   "outputs": [],
   "source": [
    "step = float(1 * diff) * direction_sampled"
   ]
  },
  {
   "cell_type": "code",
   "execution_count": null,
   "metadata": {},
   "outputs": [],
   "source": [
    "next_emb = emb_min - step"
   ]
  },
  {
   "cell_type": "code",
   "execution_count": null,
   "metadata": {},
   "outputs": [],
   "source": [
    "step, direction_sampled"
   ]
  },
  {
   "cell_type": "code",
   "execution_count": null,
   "metadata": {},
   "outputs": [],
   "source": [
    "type(next_emb)"
   ]
  },
  {
   "cell_type": "code",
   "execution_count": null,
   "metadata": {},
   "outputs": [],
   "source": [
    "def embedding_to_smiles(emb, dim, mask):\n",
    "    service_port = 'localhost:50051'\n",
    "\n",
    "    spec = EmbeddingList(embedding=emb,\n",
    "                         dim=dim,\n",
    "                         pad_mask=mask)\n",
    "    with grpc.insecure_channel(f'{service_port}') as channel:\n",
    "        stub = GenerativeSamplerStub(channel)\n",
    "        first_smiles = stub.EmbeddingToSmiles(spec)\n",
    "\n",
    "    return first_smiles\n",
    "first_smiles = embedding_to_smiles(next_emb, dim, mask)\n",
    "first_smiles"
   ]
  },
  {
   "cell_type": "code",
   "execution_count": null,
   "metadata": {},
   "outputs": [],
   "source": [
    "def add_jitter(embedding, radius, cnt, shape):\n",
    "    distorteds = []\n",
    "    for i in range(cnt):\n",
    "        noise = np.random.normal(0, radius, embedding.shape)\n",
    "        distorted = noise + embedding\n",
    "        distorteds.append(distorted)\n",
    "\n",
    "    return distorteds\n",
    "\n",
    "jittered_embs = add_jitter(next_emb, 0.2, 10, None)\n",
    "mols = []\n",
    "gsmiles = []\n",
    "for jittered_emb in jittered_embs:\n",
    "    print('jittered_embs', type(jittered_embs), type(jittered_embs[0]), len(jittered_embs[0]), type(dim), type(mask), type(dim))\n",
    "    m_gsmiles = embedding_to_smiles(jittered_emb, dim, mask)\n",
    "    try:\n",
    "        mol = Chem.MolFromSmiles(m_gsmiles.generatedSmiles[0])\n",
    "        if mol is not None:\n",
    "            mols.append(mol)\n",
    "            print(m_gsmiles.generatedSmiles)\n",
    "            gsmiles.append(m_gsmiles.generatedSmiles[0])\n",
    "    except Exception as ex:\n",
    "        pass\n",
    "\n",
    "gsmiles = set(gsmiles)\n",
    "len(gsmiles)"
   ]
  },
  {
   "cell_type": "code",
   "execution_count": null,
   "metadata": {},
   "outputs": [],
   "source": [
    "gsmiles = list(gsmiles)\n",
    "idx = 0\n",
    "print(gsmiles[idx])\n",
    "mols[idx]"
   ]
  },
  {
   "cell_type": "code",
   "execution_count": null,
   "metadata": {},
   "outputs": [],
   "source": [
    "generated_smiles = gsmiles\n",
    "smiles_id = 0\n",
    "cpu_cnt = os.cpu_count()//2\n",
    "\n",
    "artifact_dir = '/tmp/artifact_dir'\n",
    "os.makedirs(artifact_dir, exist_ok=True)\n",
    "\n",
    "num_conformers=10\n",
    "params = rdDistGeom.ETKDGv2()\n",
    "params.pruneRmsThresh = 0.01\n",
    "params.randomSeed = 42\n",
    "params.numThreads = 0\n",
    "params.clearConfs = True\n",
    "params.maxIterations = 1000"
   ]
  },
  {
   "cell_type": "code",
   "execution_count": null,
   "metadata": {},
   "outputs": [],
   "source": [
    "for smiles in generated_smiles:\n",
    "    smiles_id += 1\n",
    "    try:\n",
    "        mol = Chem.MolFromSmiles(smiles)\n",
    "        mol = Chem.AddHs(mol, addCoords=True)\n",
    "    except Exception as e:\n",
    "        continue\n",
    "\n",
    "    conformers = rdDistGeom.EmbedMultipleConfs(mol, numConfs=num_conformers, params=params)\n",
    "    for cid in conformers:\n",
    "        conformer_file = f'{artifact_dir}/{smiles_id}_{cid}.pdb'\n",
    "        rdmolfiles.MolToPDBFile(mol, conformer_file, confId=cid)\n",
    "\n",
    "        cmd = f'''\n",
    "               cd {artifact_dir};\n",
    "               /home/rilango/.conda/envs/mgltools/bin/python2 /home/rilango/.conda/envs/mgltools/bin/prepare_ligand4.py \\\n",
    "                   -l {conformer_file} \\\n",
    "                   -o {conformer_file}qt \\\n",
    "                   -A bonds_hydrogens\n",
    "               '''\n",
    "        result = run(cmd, capture_output=True, shell=True)\n",
    "\n",
    "        out_file = f'{artifact_dir}/{smiles_id}_{cid}_vina.pdbqt'\n",
    "        log_file = f'{artifact_dir}/{smiles_id}_{cid}.log'\n",
    "        cmd = ['vina',\n",
    "            '--receptor', '/raid/drugdiscovery/cheminformatics/vs_screening/5871e7e8-8853-11ec-aa14-c7359b90650f/inputs/6y2g_clean.pdbqt', \\\n",
    "            '--ligand', f'{conformer_file}qt', \\\n",
    "            '--out', out_file, \\\n",
    "            '--log', log_file, \\\n",
    "            '--cpu', str(cpu_cnt), \\\n",
    "            '--config', '/raid/drugdiscovery/cheminformatics/vs_screening/5871e7e8-8853-11ec-aa14-c7359b90650f/inputs/config']\n",
    "        result = run(' '.join(cmd), capture_output=True, shell=True)\n",
    "\n",
    "        with open(out_file, 'r') as fh:\n",
    "            lines = fh.read()\n",
    "            scorelines = re.findall(r'REMARK VINA RESULT.*', lines)\n",
    "            min_score = sys.maxsize\n",
    "            score_model = None\n",
    "            cnt = 1\n",
    "            for scoreline in scorelines:\n",
    "                score = float(scoreline.split()[3])\n",
    "                if min_score > score:\n",
    "                    min_score = score\n",
    "                    score_model = cnt\n",
    "                cnt += 1\n",
    "\n",
    "        print(f'Score for {smiles_id}_{cid} is {min_score} from model {score_model}')"
   ]
  }
 ],
 "metadata": {
  "kernelspec": {
   "display_name": "Python 3.10.4 64-bit",
   "language": "python",
   "name": "python3"
  },
  "language_info": {
   "codemirror_mode": {
    "name": "ipython",
    "version": 3
   },
   "file_extension": ".py",
   "mimetype": "text/x-python",
   "name": "python",
   "nbconvert_exporter": "python",
   "pygments_lexer": "ipython3",
   "version": "3.10.4"
  },
  "vscode": {
   "interpreter": {
    "hash": "31f2aee4e71d21fbe5cf8b01ff0e069b9275f58929596ceb00d14d90e3e16cd6"
   }
  }
 },
 "nbformat": 4,
 "nbformat_minor": 4
}
