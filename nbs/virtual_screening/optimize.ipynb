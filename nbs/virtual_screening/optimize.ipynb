{
 "cells": [
  {
   "cell_type": "code",
   "execution_count": 1,
   "metadata": {
    "tags": []
   },
   "outputs": [],
   "source": [
    "import sys\n",
    "sys.path.append('/workspace/')\n",
    "\n",
    "import sqlite3\n",
    "import mols2grid\n",
    "import importlib\n",
    "import pickle\n",
    "import itertools\n",
    "import concurrent\n",
    "\n",
    "import numpy as np\n",
    "import pandas as pd\n",
    "\n",
    "import cuml\n",
    "import cupy as cp\n",
    "\n",
    "from functools import partial\n",
    "from subprocess import run\n",
    "from rdkit import Chem\n",
    "from rdkit.Chem import Draw, QED, Descriptors, Lipinski, rdDistGeom, rdmolfiles\n",
    "\n",
    "from flow.pipeline.screening.pose_generate import score_molecule, generate_conformers\n",
    "from flow.utils.megamolbart import smiles_to_embedding, embedding_to_smiles, sample\n",
    "\n",
    "# Code to disable rdkit errors and warning\n",
    "import rdkit.rdBase as rkrb\n",
    "import rdkit.RDLogger as rkl\n",
    "\n",
    "import warnings\n",
    "warnings.filterwarnings('ignore')\n",
    "\n",
    "log = rkl.logger()\n",
    "log.setLevel(rkl.ERROR)\n",
    "rkrb.DisableLog('rdApp.error')"
   ]
  },
  {
   "cell_type": "code",
   "execution_count": 2,
   "metadata": {},
   "outputs": [],
   "source": [
    "with open('/workspace/test_data.pkl', 'rb') as file:\n",
    "    # A new file will be created\n",
    "    data = pickle.load(file)\n",
    "    x0_smis = data['x0_smis']\n",
    "    x0_dims = data['x0_dims']\n",
    "    x0_embs = data['x0_embs']\n",
    "    y0_scrs = data['y0_scrs']\n",
    "\n",
    "    x1_smis = data['x1_smis']\n",
    "    x1_dims = data['x1_dims']\n",
    "    x1_embs = data['x1_embs']\n",
    "    y1_scrs = data['y1_scrs']\n",
    "    \n",
    "y0_scrs = cp.array(y0_scrs, dtype=np.float)\n",
    "y1_scrs = cp.array(y1_scrs, dtype=np.float)\n",
    "x1_embs = x1_embs[:50]\n",
    "# x0_smis, x0_dims, x0_embs, y0_scrs, x1_smis, x1_dims, x1_embs, y1_scrs"
   ]
  },
  {
   "cell_type": "code",
   "execution_count": 3,
   "metadata": {},
   "outputs": [
    {
     "data": {
      "text/plain": [
       "((100, 262144), (50, 262144))"
      ]
     },
     "execution_count": 3,
     "metadata": {},
     "output_type": "execute_result"
    }
   ],
   "source": [
    "for i in range(len(x0_embs)):\n",
    "    x0_embs[i] = cp.reshape(x0_embs[i], x0_dims[i]).squeeze().flatten()\n",
    "\n",
    "for i in range(len(x1_embs)):\n",
    "    x1_embs[i] = cp.reshape(x1_embs[i], x1_dims[i]).squeeze().flatten()\n",
    "    \n",
    "cp.asarray(x0_embs).shape, cp.asarray(x1_embs).shape"
   ]
  },
  {
   "cell_type": "markdown",
   "metadata": {},
   "source": [
    "Multiquadric:\n",
    "\n",
    "Where ${\\varepsilon}$ is the shape parameter\n",
    "\n",
    "$ {\\displaystyle \\varphi (r)={\\sqrt {1+(\\varepsilon r)^{2}}}}$"
   ]
  },
  {
   "cell_type": "code",
   "execution_count": 4,
   "metadata": {},
   "outputs": [],
   "source": [
    "epsilon = 0.01\n",
    "# Multiquadric\n",
    "\n",
    "def multiquadric_rbf(radius, epsilon):\n",
    "    return cp.sqrt(1 + (epsilon * radius)**2)"
   ]
  },
  {
   "cell_type": "markdown",
   "metadata": {},
   "source": [
    "Now compute pairewise Euclidean distance.\n",
    "\n",
    "$ {\\textstyle r=\\left\\|\\mathbf {\\vec{x}} -\\mathbf {\\vec{x}} _{i}\\right\\|} $"
   ]
  },
  {
   "cell_type": "code",
   "execution_count": 5,
   "metadata": {},
   "outputs": [
    {
     "data": {
      "text/plain": [
       "(50, 100)"
      ]
     },
     "execution_count": 5,
     "metadata": {},
     "output_type": "execute_result"
    }
   ],
   "source": [
    "r = cuml.metrics.pairwise_distances(\n",
    "    cp.asarray(x0_embs),\n",
    "    cp.asarray(x1_embs),\n",
    "    metric='euclidean').T\n",
    "r.shape"
   ]
  },
  {
   "cell_type": "markdown",
   "metadata": {},
   "source": [
    "$ {\\textstyle \\vec{r}= {\\vec{x}} -\\mathbf {\\vec{x}} _{i}} $"
   ]
  },
  {
   "cell_type": "code",
   "execution_count": 6,
   "metadata": {},
   "outputs": [],
   "source": [
    "r1 = []\n",
    "# TODO: Revisit for bigger dataset\n",
    "for emb1 in x1_embs:\n",
    "    row = []\n",
    "    for emb0 in x0_embs:\n",
    "        row.append(emb0.squeeze().flatten() - emb1.squeeze().flatten())\n",
    "    \n",
    "    r1.append(cp.asarray(row))\n",
    "\n",
    "r1 = cp.asarray(r1)"
   ]
  },
  {
   "cell_type": "markdown",
   "metadata": {},
   "source": [
    "Now compute the gradient\n",
    "\n",
    "$\n",
    "{\\displaystyle y(\\mathbf {x} )=\\sum _{i=1}^{N}w_{i}\\,\\varphi (\\left\\|\\mathbf {\\vec{x}} -\\mathbf {\\vec{x}} _{i}\\right\\|)}\n",
    "$\n",
    "\n",
    "Therefore applying \n",
    "$\n",
    "y_i = w_{i} A\n",
    "$\n",
    "\n",
    "\n",
    "Where\n",
    "$\n",
    "A =\n",
    "  \\begin{pmatrix}\n",
    "    \\varphi (\\left\\|\\mathbf {\\vec{x}}_{0} -\\mathbf {\\vec{x}} _{0}\\right\\|) & {...} &\\varphi (\\left\\|\\mathbf {\\vec{x}}_{i} -\\mathbf {\\vec{x}} _{0}\\right\\|)\\\\\n",
    "    \\vdots & \\ddots & \\vdots\\\\\n",
    "    \\varphi (\\left\\|\\mathbf {\\vec{x}}_{0} -\\mathbf {\\vec{x}} _{i}\\right\\|) & {...} &\\varphi (\\left\\|\\mathbf {\\vec{x}}_{i} -\\mathbf {\\vec{x}} _{i}\\right\\|)\n",
    "  \\end{pmatrix}\n",
    "$"
   ]
  },
  {
   "cell_type": "code",
   "execution_count": 7,
   "metadata": {},
   "outputs": [
    {
     "data": {
      "text/plain": [
       "((50, 100), (50,))"
      ]
     },
     "execution_count": 7,
     "metadata": {},
     "output_type": "execute_result"
    }
   ],
   "source": [
    "A = multiquadric_rbf(r, epsilon)\n",
    "w = cp.matmul(cp.linalg.pinv(A).T, cp.asarray(y0_scrs))\n",
    "A.shape, w.shape"
   ]
  },
  {
   "cell_type": "code",
   "execution_count": 8,
   "metadata": {},
   "outputs": [
    {
     "data": {
      "text/plain": [
       "((50, 100), (50, 100, 262144))"
      ]
     },
     "execution_count": 8,
     "metadata": {},
     "output_type": "execute_result"
    }
   ],
   "source": [
    "r.shape , r1.shape"
   ]
  },
  {
   "cell_type": "markdown",
   "metadata": {},
   "source": [
    "$ \\vec{\\nabla} $$y(\\vec{x}) = \\sum \\vec{\\nabla}\\varphi \\left\\|\\mathbf {\\vec{x}} -\\mathbf {\\vec{x}} _{i}\\right\\|$\n",
    "\n",
    "$ {\\qquad =\\sum _{i=1}^{N}w_{i} {\\dfrac {\\varepsilon^{2}}{\\sqrt {1+(\\varepsilon^{2} r^{2})}}}} \\vec{r1}$"
   ]
  },
  {
   "cell_type": "code",
   "execution_count": 9,
   "metadata": {},
   "outputs": [
    {
     "data": {
      "text/plain": [
       "(50, 100, 262144)"
      ]
     },
     "execution_count": 9,
     "metadata": {},
     "output_type": "execute_result"
    }
   ],
   "source": [
    "tmp = ((epsilon**2) / cp.sqrt(1 + (epsilon**2 * r**2)))\n",
    "tmp = cp.multiply(tmp.reshape(tmp.shape + (1,)), r1)\n",
    "tmp.shape"
   ]
  },
  {
   "cell_type": "code",
   "execution_count": 10,
   "metadata": {},
   "outputs": [],
   "source": [
    "grad = cp.einsum(\"i,ijk->jk\", w, tmp)"
   ]
  },
  {
   "cell_type": "code",
   "execution_count": 11,
   "metadata": {},
   "outputs": [
    {
     "data": {
      "text/plain": [
       "array(0.10021946)"
      ]
     },
     "execution_count": 11,
     "metadata": {},
     "output_type": "execute_result"
    }
   ],
   "source": [
    "cp.asarray(grad).max()"
   ]
  },
  {
   "cell_type": "code",
   "execution_count": 12,
   "metadata": {},
   "outputs": [],
   "source": [
    "# coeff = cp.matmul(((epsilon**2) / cp.sqrt(1 + (epsilon**2 * r**2))), r1)\n",
    "# coeff.shape\n",
    "# grad = cp.sum(cp.matmul(w, ), axis=1)\n",
    "# grad"
   ]
  },
  {
   "cell_type": "code",
   "execution_count": 13,
   "metadata": {},
   "outputs": [
    {
     "name": "stdout",
     "output_type": "stream",
     "text": [
      "500.4780000000002 0 C(F)(F)(c1ccc(-c2cn3ncc(C(N)=O)c(N[C@H]4[C@@H](CF)CN(S(=O)(=O)C)C[C@H](CF)[C@H]4C4)c3n2)cn1)F\n",
      "303.74500000000006 325.7950000000001 OCCNCc1ccc2oc3cc(Cl)ccc3c3ccc=3c2c1\n",
      "352.3990000000001 427.46600000000024 Cc1nc(NCC(N)=O)nc(NCC(=O)NCCN(CCO)CC(=O)NCCO)n1\n",
      "281.31500000000005 266.3 CC(=O)NN1C(=O)c2ccccc2C1c1ccccc1\n",
      "475.45800000000025 0 C1(n2c3ncnc(NCCc4cc(OC)c(OC)c(OC)c4)c3)C(=O)C2=C(C(=O)C2)CN1\n",
      "229.70699999999997 0 C1CC(N)CC2CCC(C3CCC3)CCC1\n",
      "388.47000000000014 237.34299999999996 COC(=O)CN1C2CCC(CC3CC1(C)C3)C2\n",
      "290.407 274.40799999999996 CCCN(CCC)CCc1ccc(C)c2c1CC(=O)N2\n",
      "631.1730000000001 0 c1cc(COc2ccc(Nc3nccc4c5c6c5cc6c(cc5)CC5)ccc6n(c3)CC4)cc2c1cccc2O\n",
      "248.28500000000003 259.308 O=C(c1ccccc1)c1ccccc1-c1ccccn1\n",
      "402.45400000000006 0 c1c(-c2ccnc3c(C)ccnc2-c2ccncc2)ccc(C)c1CC(C(=O)NCc1ccncc1)(C)O\n",
      "266.301 278.44 C/C=C1\\CC(C)/C(=C/NCCN(C)C)C(C)C(C)C1=O\n",
      "439.4750000000002 0 c1ccc2c(c1)-c1nc(-n3c(C)c(C(NCc4cccc5ccccc5)cc4)cn3)ncc1CC2\n",
      "377.25700000000006 295.224 Brc1cccc(CN2CCN(C3CC3)CC2)c1\n",
      "401.5070000000002 445.60400000000027 CC(C)(C)CC(=O)Nc1ccc(CCC(=O)NC[C@H]2CC[C@H](CCC(=O)NO)CC2)cc1\n",
      "565.0950000000003 0 C(C[n+]1cccc(C(=O)NCCc2ccccc2)C#CC(=O)C#CCC(=O)NCC1)#CC(=O)C1\n",
      "429.4720000000001 406.5630000000003 O=C1CCCCCCCCCCCC(=O)CCC(=O)CCC(=O)CCC(=O)CC1\n",
      "312.845 324.85600000000005 ClCOC1CCN(c2cncc(CCC3CCCN3)n2)CC1\n",
      "314.42500000000007 332.396 CC1C(=O)C(C(C)C(=O)CC2=C(O)CC2)=CC(=O)C(C)C(C)C1=O\n",
      "388.4900000000001 0 O=C(n1cnc(C2(C)OO)=C(C)O1)[C@@H](C)S(=O)(=O)C1=O\n",
      "441.4460000000002 305.3740000000001 O=C1/C=C\\CCC(=O)CC/C=C\\CCC/C([N+](=O)[O-])=C/CC1\n",
      "444.5680000000003 0 C1CC(C)(C)[C@@H]2CC[C@@]3(C)[C@H]([C@H](OC)c4c(OC(=O)C)c(OC(=O)C)c(O)c(O)c(OC(=O)C)c4)[C@@](O)(O)[C@H](O)[C@H](O)[C@H](O)[C@H]2[C@]13)[C@H]1O)[C@H]1O\n",
      "462.8900000000002 531.7420000000003 CCN/N=N/N=C(\\C)CCCCCCCC/C(=C/CCC(=O)NCCc1ccc(OC)c(OC)c1)CCO\n",
      "262.28399999999993 151.209 O=C1CCC2CC3(CC3)CN12\n",
      "344.5030000000001 358.6140000000002 C1CN(CC2CC2)CCC2(C1)CCCC1(CCN(CC3CC3)CC1)CC2\n",
      "502.5820000000002 0 c1cc(NC(=O)NCCNOCc2n[nH]c(CCN=C(/C)n3ccc(N=C(N)N)C)c3)ccc1NC(=O)NCCN=C(C)C\n",
      "295.3670000000001 0 c12c3ccc(C)cc3nc-c3c[nH]c1c1ccnn-c1c2\n",
      "335.35900000000004 290.36199999999997 c1ccc(COc2cccc(COc3ccccc3)c2)cc1\n",
      "563.0080000000002 0 c1c(-c2c(N)c(-c3c(N)c(N)c(N)c(N)c(N)c3c(N)c(N)c(N)c3)c2)c(N)c(N)c(N)c(N)c1)c(N)c(N)c1N)c1N)c1(N)c(N)c(N)c1(N)c1c1c1c1c1c1c(N)c(N)c(N)c1c(N)c(N)c1c1c1c(N)c1c1c1c1c1c1c(N)c(N)c(N)c(N)c(N)c(N)c(N)c(N)c(N)c(N)c(N)c(N)c(N)c1c(N)c(N)c(N)c1(N)c(N)c(N)c1c1c1c1(N)c(N)c1c(N)c(N)c(N)c1c1c1c1(N)c(N)c1(N)c1c1c(N)c1c1c1c1c1c1c1c(N)c1c1c1c1c(N)c(N)(N)c(N)c(N)(N)(N)c1c1(N)(N)N)N)c1c1c1(N)(N)(N)N)(N)(N)N)(N)(N)(N)(N)(N)(N)N)N)(N)(N)c(N)(N)c(N)(N)(N)(N)c(N)(N)(N)(N)(N)(N)(N)(N)(N)c1(N)N)c1(N)(N)(N)(N)c1c1(N)(N)c1c1(N)(N)N)\n",
      "396.39900000000017 438.35100000000017 COC1=C(OC)[C@@H](F)[C@H](O)O[C@H](CO)C(Oc2c(O)c(F)c(OC)c(O)c2F)=C1C\n",
      "569.6810000000003 0 C(C(=O)/C=C/c1ccc(F)cc1)(c1ccc(OCc2cnn([C@@H]3[C@H]4[C@H](CC(=O)N5CCC[C@H]6[C@@H](O)CCCN6)C4)c4C(C(C3)c3)c2)c2)c2)c2)c2c2c2c2c2c2c2c2c2c2c2c2c2c2c2c(OC(OC(c2c2c2c2c2c2c2c2c(c2c2c2c2c2c2c2c2c2c2c2c2c2c2c2c2c2c2c2c2c(OC(OC(OC(OC(OC(OC(OC(OC(c2c2c2c2c2c2c2c2c2c3c2c2c2c2c2c2c3c3c2c2c2c2c2c2c2c2c2c2c2c2c2c2c2c2c2c2c2c2c2c2c2c2c2c2c2c3c2c2c2c2c2c2c2c2c2c2ccc2c2c2c2c(cc2c2c2c2c2c2c2c2c2c2c3c2c2c2c2c2c2c2c2c2c2c2c2c2c2c2c2c2c2c2c2c2c2c(OC(OC(OC(OC(OC(OC(OC(OC(OC(OC(OC(OC(OC(OC(OC(OC(OC(OC(OC(OC(OC(OC(O(OC(OC(OC(OC(OC(OC(OC(OC(OC(OC(OC\n",
      "480.5610000000002 386.4920000000002 CC1(C)COC(C)(C23CC(O)=C(c4ccc(/C(N)=N/O)cc4)OC(C)(C2)C3)C1\n",
      "286.31600000000003 0 c1ccc(CNC(c2cccc-cnc-c-cnc-2)nc-2ncc[nH]1\n",
      "415.4890000000001 455.5950000000002 C=C(CC)CC(=O)CC(=O)CC(CC(=O)OCC(=O)N(C)Cc1ccccc1)=C(CC)CC\n",
      "430.4680000000003 0 c1ccc2c3c(cccc3)c(=O)n(CC(=O)Nc3ccc(-c4nnc5n4CCCCC5)cc3)c1c1ccccc2\n",
      "384.4870000000002 0 c1cccc(-c2ccc(Nc3nc4nc5ncnc-5c(NC5CCCCC5)[nH]c-4[nH]3)c2)c1\n",
      "255.32100000000003 255.32100000000003 CN(CCC(=O)c1cnccn1)Cc1ccccc1\n",
      "336.18500000000006 320.186 COc1c(Br)cc(C(N)=O)cc1Cc1ccccc1\n",
      "310.30600000000004 0 c1ccc(SS(=O)(n2c(=O)[nH]c(C)cc2)=S)c1\n",
      "474.5100000000003 0 C1C[C@@]23CCC[C@]45CC[C@@]65[C@@]66CCC[C@@]65[C@@]6(CN6)CC[C@@]66[C@@]7(CC6)[C@@]66CCC7)CC[C@@](O)(O)[C@H](O)[C@@]63[C@@]625\n",
      "1060.1230000000003 0 C1[C@@H](C)O[C@@H]2[C@@H](C(C)C)O[C@@H](O)[C@H]1[C@@H](CO)O[C@@H]1[C@@H](C)[C@@H](C)[C@@H](CC)O[C@H]1[C@@H](CC)[C@@H](C)[C@@H](NC(=O)[C@@H]1O[C@H]1O)O[C@H]1O[C@H]1O[C@H]1O[C@H](N(N(N(O)[C@@H](N(O)[C@@H](O)[C@@H]1)[C@@H]1)[C@@H]1O)[C@@H]1)[C@@H]1)[C@@H]1[C@@H]1)[C@@H]1[C@@H]1[C@@H]1[C@@H]1[C@@H](C(N[C@H]1[C@@H]1C(C(C(C(C(C(C(C(O)[C@@H]1)[C@@H]1)[C@@H]1)[C@@H]1)[C@@H]1)[C@@H]1)[C@@H]1[C@@H]1)[C@@H]1[C@@H]1[C@@H]1)[C@@H]1[C@@H]1[C@@H]1)[C@@H]1CO[C@H]1)[C@@H]1CO[C@H]1)[C@@H]1CO[C@H]1)[C@@H]1CO[C@H]1CO[C@H]1C(C(C(C(C(C(C(C(C(C(N(C(C(C)[C@@H](C(C(C(C(C(C(C(C(C)[C@@H](O)[C@@H]1)[C@@H]1)[C@@H]1)[C@@H]1)[C@@H]1)[C@@H](C(C(C(C(C(O)[C@@H](C(O)[C@@H](O)[C@@H](O)[C@@H](O)[C@@H]1)[C@@H](O)[C@@H]1)[C@@H]1)[C@@H]1)[C@@H](O)[C@@H]1)[C@@H](C(C(C(C(C)[C@@H](O)[C@@H]1)[C@@H]1)[C@@H]1)[C@@H](C)[C@@H]1)[C@@H]1)[C@@H]1)[C@@H]1)[C@@H]1)[C@@H]1)[C@@H]1)[C@@H]1)[C@@H]1)[C@@H]1)[C@@H]1)[C@@H]1)[C@@H]1)[C@@H]1)[C@@H]1)[C@@H]1)[C@@H]1)[C@@H]1)[C@@H]1)[C@@H]1O)[C@@H](O)[C@@H]1C(O)[C@@H]1C(C)[C@@H](O)[C@@H](CO)[C@@H](O)[C@@H](C(NCO)[C@@H]1[C@@H]1[C@@H](CO)[C@@H](CO)[C@@H](C(C(C(C(C(O)[C@@H]1[C@@H](CO)\n",
      "246.274 270.3400000000001 CC1C=CC(n2cnc3c(NN)ncnc32)C1C1CC1\n",
      "375.4940000000001 364.47100000000006 NS(=O)(=O)c1ccc(CCNC(=O)NCCCCc2ccc[nH]2)cc1\n",
      "462.43400000000014 683.8480000000004 CCCCCNCCCC(=O)NCCC[C@@H](CCC(=O)NCCCNC(=O)CC(=O)NCCCC(=O)N[C@H](C=O)CC(=O)O)NC(C)=O\n",
      "483.4770000000004 0 C(C)(C)C1=C(C(=O)OC)C(C(=O)OC)C(C(=O)OC)C(C(=O)C)C(C(=O)C)(CC)N1C(C)C(=O)C(C(C(C(C(=O)C)C(C)C)C)C)C(=O)C)C(C(C)C)C)C)C)C)C(C)C(C(C(C(=O)C)C(C(=O)C)C)C)C)C)C)C)C(C(C)C)C(C)C)C(C(C(C)C)C(C(C)C(C)C)C(C)C1\n",
      "481.9760000000002 492.5240000000003 COC1=CC=c2c(cc(OC)c(OC)c(OC)c3cc(OC)c(OC)cc3c3c2=C(C)C(O)=C3)C1=O\n",
      "344.40000000000003 344.40000000000003 O=S(=O)(NCc1ccccc1)NCc1nc(-c2ccncc2)n[nH]1\n",
      "342.321 0 C1CCCCCCCCN1CCC[N@+]1(C)CCC[N@+]1(C)CCC1\n",
      "360.381 342.4980000000002 CC/C=C1\\CC/C(=C/c2cccc(F)c2)C(=O)[C@@](CC)(CCC)CC1\n",
      "525.6670000000003 0 c1(C)c(N(CCCC)S(=O)(=O)c2c(C)c(C)c(OC(C(O)=O)C)cc2)cccc1-c1c(N)n(-c2ccc2)c1\n",
      "537.6170000000003 559.8320000000003 CCC(=O)CC(=O)CCC1=C(CCC(CC)CC(=O)CC)CC[C@H](NCC(CC)CC(=O)CC)CCC(=O)CC1\n",
      "615.6580000000002 0 c1c(OCCCCc2cnnn2CCOCCOCCOCCOCCOCCOCCOCCO2)ccc(C=O)c1\n",
      "354.45000000000005 354.45000000000005 COc1cc(CCNC(C)COc2c(C)cc(C#N)cc2C)ccc1O\n",
      "410.4960000000001 389.50300000000004 Cc1c(-c2nn3c(NC4CCCC4)cccc3c2-c2ccc[nH]2)c[nH]c1CCO\n",
      "235.371 221.34399999999994 CCc1cccc(OCCN(CC)CC)c1\n",
      "527.503 0 c1(-c2ccc(OC)cc2)c(C)n(CCC(=O)NOC)c(=O)c(CC)c2c(CC)nc(-c3ccnn3)c1\n",
      "192.243 0 C1Cc2c(n[nH]c(O)C[S+]2)CCc2c-1\n",
      "576.8290000000005 0 c1c(C)cc(-c2c3c(nc4c(c5c(c6c6c(n5)CCN5C[C@@H]6CN6)CO)CCN4)CCN2)n2c(n1)CCN1CN2C2CCCN3=CCCCCCN2C1(C2CN1(=CN1(CN2CN2C[C@@H]1(CN2C2CN2CN1)C[C@@H]1(C[C@@H]1CN[C@@H]1CN[C@@H]1CN[C@@H]1CN[C@@H]1CN[C@@H]1C[C@@H]1CN1CN1CN1CN1CN1CN1CN1CN1O[C@@H]1CN1CN1CN1CN1CN1CN1CN1CN1CN1CN1CN1CN1CN1CN2CN2CN2CN2CN1CN2C[C@@H]1CN1CN1C[C@@H]1CN1C[C@@H]1CN1CCCCCN1CN1CN1CN1(CN1CN1CN1CN1CN1CN1CN1CN1CN1CN2CN1CN1CN1CN1CN1CN1CN1CN1(CN1CN1CN1CN1CN12CN1CN1CN1CN1CN1CN1CN1)CN1CN1C(CN1CN1CN1CCN1CN1C(C(CN1C(C(CN1CN2CN1CN1CCN2CN2CN2CN1CCN2CN2CN2CN2CN1CN2CN2CN2CN2CN1CN1CN1CN1CN1CN2CN1CN1)C(C(CN1CN1CN1CN1CNCNCN2CN2CN\n",
      "630.721 0 c1ccc(-c2ccccc2-c2ccccc2-c2c(CCC)c(Cc3c(CCC)c4n(n3)C[C@@H](OCC(C)(C)O4)=O)c3c4c(N)c(N)c3c3c3c3c3c(ccc([nH]cccccccccccccccccccccccccccccccccc4c4cc4c4c4c4c4c4c4c4c4c4c4c4c4c4c(N)c4c4c(N)c(=O)c3c(c(c(N)c(N)c4c(N)c4c(N)c4c4c(N)c(N)c4c4c(N)c4c(N)c4c(c(N)c4c(=O)c4c4c(c(c(c4c4c4c(=O)c4c4c(c4c4c4c(c(c(N)c4c4c(N)c(N)c4c4c4c4c4c4c4c(N)c4c4c4c4c(c(=O)c(c(N)c(N)c4c4c(N)c(c(N)c4c4c4c4c4c4c4c4c(N)c4c(N)c4c(N)c4c(N)c4c4c(N)c4c(N)c(N)c4c(N)c(N)c(N)c4c(N)c(N)c(N)c(N)c(=O)c(N)c(N)c4c4c4c4c4c(N)c4c4c4c4c4c3c3c4c4c4c4c4[nH][c-](c4c3c4c(N)\n",
      "773.9760000000001 0 C(CC(=O)CC)(CC(=O)C[C@H](O)CC(C)C)CC(CC(C)C)CC(CC(=O)CC[C@H](CC(C)CC)[C@H](O)CC(CCCC)CCCCCCCCCCCCCCCCCC(=C)CCCCCC[C@H](=C)C)C[C@@H](CCCCC)C[C@@H](C[C@H](C)CC[C@H](=CCCCCCCCCCCCCCCCCCCCCC)C)[C@H](=CCCCCCCC[C@H](=CCCCCCCC(=C)CCCCC(CCCCCC(CC(CC)[C@H](C(CC[C@H](CC(=O)[C@H](CCCCN)N)[C@H](CC(C(CC(C(CCCCCC(C(=O)[C@H](CCCCC(=O)C(C(CCCCC(CCC)C)[C@H](CCCCCC)C)N)N)N)CC)O)[C@H](C(CCCCC)N)N)O)CCCCCC(=O)N)CCCCCCCCCCCCCCCCCCCCCCCCC(=O)CCCCCCCCCCCCCCCCCCCCC)N)CCCCCCCCCCCCCC(=O)C)CCCC)N)N)N)O)C(=O)C(=O)C(=O)CCC(CC(CC(C(C(CCC(C(C(C(C(C(C(=O)C(C(C(C(C(C(CC(C(C(C(C(C(C(C(C(C(C(C(CCCC(C(C(C(CCC\n",
      "307.35299999999995 321.37999999999994 COc1cccc(-n2nncc2CCCC(=O)c2ccccc2)c1\n",
      "338.354 253.13799999999998 NC(F)(C(=O)C(C(=O)O)C(=O)O)C(O)C(=O)O\n",
      "272.373 177.24699999999999 C=CCNC(=O)/C=C\\C=C\\C=C\\C\n",
      "311.38100000000003 212.248 O=C(O)Cc1ccccc1-c1ccccc1\n",
      "470.48000000000025 0 C(C(=O)NCC(=O)n1c(N[C@H]2[C@H](F)COC2)cc(NC(=O)C(=O)C)c(NCC)n1)(=O)n1ccc(C#N)c1\n",
      "592.202 0 C1CCCCC1CN(C)C[C@@H]1Oc2c(cc(NS(=O)(c3ccc(Cl)cc3)=O)cc3c2CC(=O)CC(=O)N([C@@H](C)CO)CC1\n",
      "551.6210000000003 578.6870000000004 CS(=O)(=O)Nc1ccc(COCC(=O)CCOC2=N[C@H](c3ccccc3)c3ccccc3C2)c(CC/C(O)=C/O)c1\n",
      "294.44200000000006 244.3819999999999 CC(c1ccccc1)N1CCN(CC2CC2)CC1\n",
      "454.94700000000034 0 C(CCO[C@@]1(C(=O)O)CCCCC(C)(C)CCCC(=O)CCCCC(=O)O)C(=O)CCCCCC(O)C\n",
      "2543.8719999999958 0 C1(N)=C(CO)OC(=O)NC(=O)C(N)=C(CO)O1)[C@H](N)C(N)C(C(N)=O)C(N)C(N)C(N[C@@H](C(N)C(O)C)C(O)CO)C(CO)C)C(C(C(C)C(C(O)C(O)C)C)C(O)C)C)C)C)C(O)C)C)C(O)C(O)C(C(C(C(C(C(C(C(C(C(C(C(C(N)C(C(N)C(C(N)C(C(C(C(C(C(N)C(C(N)O)C(C(C(C(C(N)O)O)O)O)O)C(C(C(N)C(C(C(C(C(C(N)C(N)C(C)C)C(N)C(C(N)C(C(N)O)C(C(N)C(N)O)C(C(C(C(C(C(N)O)O)O)O)O)O)O)O)O)O)O)C(C(C(C(N)O)C(C(C(C)O)C(C(C(C(C(C)C(C(C(C(C(C)C)C(C(C)C(C(C(C(C(C(C)O)C(N)O)C)C(C(C(C(C(C)C(C(C(C(C(C(C(C(C(C(C(C(C(C(C)O)O)O)O)O)O)O)O)C(C(C(C(C(C(C(C(C(C(C(C(C(C(C(C(N)O)O)O)O)O)O)O)O)O)\n",
      "450.9220000000002 0 c1(C(=O)Nc2c(C)c(-c3cc(OC)c(OC)c(OC)c3)nn2)cc(C)c(N)c(Cc2[nH]c(=O)c(C#N)c2)c1\n",
      "348.246 0 c1(C)ccc(NC(=O)Nc2ccc(C(F)(F)F)c2)c1\n",
      "190.162 0 C1Cc2c(no[n+]2[O-])CCn2c-CCn1nncc-CCC2\n",
      "404.33800000000014 0 C1(C)/C(=N/N=C(C)/C(=C\\C)C/C(C)C/N=C/CC/C(C)=N/N=C/C[N+](C)=C/2C)C\n",
      "540.6600000000003 0 C(C1(c2ccc(OC)c(OC3CCCC3)c2)C(=O)C2CCCC2)(CC)CC1)CC1CC1\n",
      "1246.4390000000005 0 C1C(C)C[C@@H](CC(C)C)NC(=O)[C@@H](CC(C)C)CC12CC(O)(C)[C@@H](NC(=O)[C@@H](NC(=O)N)C(N)O)C(O)CCCCCCC[C@@H](N)CCCCCCCCCC[C@@H](CCCC[C@@H]1[C@@H](CC[C@H]1)CCCCCCCCCCC(CCCCC)C(CCCCCCCCCCCC1)C1)CCCCCCCC(C(C)CCCCCCC1)C[C@H]1)CCCCCCC(CCCCC(CCC)C(C(C1)C(C1)C)C(CCC)C(C(C(C)C(CCC1)[C@@H]1)C(C(C(C(CCCCCC(C(C(C(=C(C)[C@@H]1)C)C(C(C(C)C)C1)C)[C@@H]1)[C@@H]1)C)C)CCCCC(CCCCCC(C(C(C)C[C@H]1)C)CCCCCCCC)C)C(C(C)C)[C@@H]1)[C@@H]1)CCCCCCCC(CC)CCCC(C)C[C@@H]1)[C@@H]1)CCCCC)CCCCCC)C(CCC)C(C(CCCC(CCCC1)C1)C)C(CCCC)C(CCCC(C(CCCCC(C(CCC(N)C(CCCCC(C(N)[C@@H]1)C(C(CCCC(C(C)[C@@H]1)CCCCCCCC(CCCCCCCCC(C(CCC(C(CCCC)[C@@H]1)CCCCCC(C(C(CCC)CC\n",
      "525.3070000000001 0 c1(N)nc(NCc2cccc(I)c2)c2ncn([C@@H]3O[C@H](C(=O)NC)[C@@H](O)[C@H]3O)cCCCn2n1\n",
      "667.6770000000001 0 c1cccc2c1C(=O)c1c3c(cc1)C1c4c(ccc1NC(=O)c5c6c(c8c8c8c8c8c8c8c8c8)CC[N@+]5-63)CCCCCCCC2=CCC1)-2c1c1c1c1c1c1c1c1c1c1c1c1c2c2c1c2c2c2c1c1c2c2c1c1c1c3c1c1c1c2c2c2c2c2c1c1c1c1c1c2c2c1c2c2c1c2c2c1c1c2c1c1c1c1c1c1c1c1c1c1c2c1c1c2c2c2c2c2c2c2c2c1c2c2c1c1c1c1c1c1c1c1c1c1c1c1c1c1c1c1c2c1c1c1c1c2c2c1c1c2c2c2c1c1c1c2c2c2c2c2c1c1c2c1c2c2c2c2c1c1c1c1c1c1c1c1c1c2c2c2c2c1c1c2c2c2c3c3c1c1c1c2c1c1c1c1c1c2c2c1c1c2c1c2c2c1c1c1c1c1c1c1c2c1c1c1c1c1c1c2c2c2c2c2c2c2c2c2c2c2c1c2c2c1c12c2c2c2c1c1c2c1c12c2c2c1c2c2c1c1c2c2c2c2c2c2c2c3c2\n",
      "481.90200000000016 0 C(\\CC(Nc1ccc(CC(=O)N2CC(C)OC(C)C2)cc1)=O)=C/CC1\\CO2\n",
      "407.5140000000002 0 C1CN(CCCCOc2ccc3c(c2)C(=O)NC3)CCN1CCCCCCC1\n",
      "362.41900000000015 440.49300000000005 NCCNS(=O)(=O)c1ccc(-n2cc(Cn3nnc(Nc4ccccc4)n3)nn2)cc1\n",
      "910.0260000000001 0 C1C2(CO)CC(CO)(CO)C13CC(CO)(CO)CC(CO)CC3CCC2n2ccc(C#Cc2ccc3c4n(n2)CC4COCC4)CCCCCCCCCCC2CCC2)CCCCCOCOC2C2)CCCCCCCOCC2)CCCCC(C2COCOCOCOCCOCCCCCCOCOCCCCCCCC2)CCCCCCCO2CCCCOCCC2=COCCCCCCOCCCCCOCCCCCOCC2)CCO2COCOCOCOCOCOCCCCCCC2CCCCOCOCCCCCCCCCCCC2C2COC2CCCCCCCCOCOCOCOCO2COCO2COCOCO2COCCC2COCCC12COCOCO2COCOCO2CO2CCCCCO2CO2COCCCO2C2CCCCOCCCCCCCCC2CCCC12COCOCOCOCOCOCCCO2CCO2CCCCCCCOCCCCCCCCCCCCCCCCCCOCCCOCCCCCCCCCCCCCCC12CCCCO2CCCCCCCCCCCCCCCCCCCCCCCCCCCCCCCOCOCCCCCOCOCCCCOCOCOCOCCCCCCCCCCCCCCCCCCCCCCCCCOCCCCCOC\n",
      "459.4310000000004 376.29400000000004 Oc1c(OCCCN2CCCC2)cccc1-c1ccc(Br)cc1\n",
      "441.4840000000003 463.53100000000023 CCC(=O)NCCC(=O)N1CCN(C(=O)CCc2ccc(OC)c(OC)c2)C[C@H]1C(=O)OC\n",
      "404.85700000000014 430.51200000000017 Cc1nc(-c2ccccc2)[nH]c1C(=O)NCC/C=N/CCn1c(=O)n(C)c2ccccc21\n",
      "325.226 0 C1CC2CC(CC(CC)CC)(CC(CC3)CC2)CC1\n",
      "523.5190000000002 0 c1(C)ccc(C(=O)Nc2c(C)ccnc2)c(-n2nc(-n3c(C)ccc(C(=O)Nc4c(C)ccn4)c3)cc(C)c2)cn1)cn1)cn1)cn1)cn(C(C(C(C(C(=CNC(CNC(=C)c1)c1)cncnc1)c1)c1)c1)c1)c1)c1)c1)c1)c1c1c1c1nc1nc1cnc1ncncnc1ncnc1-cncnc1-cncncncncncncncncncncncncncncncncncncncncncncncncncncncncncncncnc(C(C(C(C)c(=C(C(C)cn1C)c1)c1-c(C(C(=C(=C(C)c1-n1-nc1)c1)c1)c(C(=C(=C(C(C(C(C(C(C(=C(C(C(=C(=C(=C(=C(=C(C(C(C(=C(C(C(=C(C)c1)c1)c1)c1)c1)c1)c1)c1)c1)c1)c1)c1)c1-n1)c1)c1-c(C(C(C(C(C(C(C(C(C(C(C(C(C(C(C(C(C(C(C(C(C(C(C(C(C(C(C(C(C(C(C(C(C(C(C(C(C(C(C(C(C(C(\n",
      "376.4600000000001 290.323 COc1ccc(NC(=O)Nc2cc(C)nn2CCO)cc1\n",
      "480.79600000000016 314.14000000000004 Cc1nnc(Cl)n1-c1nncn1-c1c(CCl)nnn1C\n",
      "334.40100000000024 0 c1([N+](=O)[O-])cc2c([nH]c1[N+](=O)[O-])[nH]c([N+](=O)[O-])c2\n",
      "444.0590000000001 540.6950000000004 C1CCOCCNNCCOCCOCCOCCOCCOCCOCCOCCOCCOCC1\n",
      "404.11600000000004 383.69800000000004 Cc1cccc(Cl)c1C1SCC(=O)N1c1cccc(Br)n1\n",
      "457.5530000000003 0 c1cc(C[C@H]2n3c(nc(C)c(-c4ccc(F)cc4)c3-c3n4c(nc3)CC[C@H]4N)C2)ccc1OC\n",
      "456.4240000000001 0 C1CC(=O)C2=CCC(=O)CCCCCCCCCCCCCCCCCCCCC1\n",
      "380.83500000000004 0 c1c(-c2cc(-c3cc(COc4cnc(Cl)nc4)cnc3)cnc2)cc(C#N)c1\n",
      "477.56400000000025 453.6050000000002 Cc1ccc(S(=O)(=O)N2CC(O)CC2C(CC2CC(O)CCN2)C2CC(O)CN2)cc1\n",
      "322.149 0 c12ccc3c(c1nc[S+]=?2)nc1ccccc-3??????????????2\n",
      "425.4700000000002 0 c1cc(SS(=O)(n2c(SS(=O)(=O)O2)nnc2N2CCCC2)=O)c([N+](=O)O)c1\n",
      "197.19400000000002 129.12300000000002 N/C=N\\C=N/N/C=N/O\n",
      "771.8659999999998 651.7470000000004 CC#CCCOCCOCCOCCOCCOCCOCCOCCOCCOCCOCCOC(=O)N(C(C)=O)C(C)=O\n"
     ]
    }
   ],
   "source": [
    "for i in range(len(x0_embs)):\n",
    "    emb = x0_embs[i]\n",
    "    dim = x0_dims[i]\n",
    "    # projected_emb = emb\n",
    "    projected_emb = emb - grad[i], dim\n",
    "    projected_emb = cp.reshape(cp.array(emb), dim)\n",
    "    projected_emb = projected_emb.flatten().tolist()\n",
    "    mask = list(itertools.repeat(False, dim[0]))\n",
    "    result = embedding_to_smiles(projected_emb, list(dim), mask, service_port='localhost:50052')\n",
    "    gsmi = result.generatedSmiles[0]\n",
    "    mol_wt = 0\n",
    "    op_mol = Chem.MolFromSmiles(gsmi)\n",
    "    if op_mol:\n",
    "        mol_wt =  Descriptors.MolWt(op_mol)\n",
    "    print(y0_scrs[i], mol_wt, gsmi)"
   ]
  },
  {
   "cell_type": "code",
   "execution_count": null,
   "metadata": {},
   "outputs": [],
   "source": []
  }
 ],
 "metadata": {
  "kernelspec": {
   "display_name": "Python 3.10.4 64-bit",
   "language": "python",
   "name": "python3"
  },
  "language_info": {
   "codemirror_mode": {
    "name": "ipython",
    "version": 3
   },
   "file_extension": ".py",
   "mimetype": "text/x-python",
   "name": "python",
   "nbconvert_exporter": "python",
   "pygments_lexer": "ipython3",
   "version": "3.10.4"
  },
  "vscode": {
   "interpreter": {
    "hash": "31f2aee4e71d21fbe5cf8b01ff0e069b9275f58929596ceb00d14d90e3e16cd6"
   }
  }
 },
 "nbformat": 4,
 "nbformat_minor": 4
}
