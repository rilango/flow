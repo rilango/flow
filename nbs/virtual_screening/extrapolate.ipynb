{
 "cells": [
  {
   "cell_type": "code",
   "execution_count": 3,
   "metadata": {},
   "outputs": [],
   "source": [
    "import sys\n",
    "sys.path.append('/workspace/')\n",
    "\n",
    "import pandas as pd\n",
    "import mols2grid\n",
    "import importlib\n",
    "\n",
    "from rdkit import Chem\n",
    "from rdkit.Chem import Draw, QED, Descriptors, Lipinski, rdDistGeom, rdmolfiles\n",
    "\n",
    "import flow.pipeline.screening.optimization\n",
    "from flow.pipeline.screening.optimization import Regression\n",
    "from flow.pipeline.screening.data import ScreeningData"
   ]
  },
  {
   "cell_type": "code",
   "execution_count": null,
   "metadata": {},
   "outputs": [],
   "source": [
    "%%time\n",
    "db_url = '/content/1e988488-934c-11ec-aa14-c7359b90650f/common.sqlite3'\n",
    "generation = 0\n",
    "\n",
    "importlib.reload(flow.pipeline.screening.optimization)\n",
    "from flow.pipeline.screening.optimization import Regression\n",
    "\n",
    "regression = Regression()\n",
    "gsmiles = regression.optimize(generation=generation, top_k=10, db_url=db_url)\n",
    "df = pd.DataFrame()\n",
    "df['smiles'] = list(gsmiles)\n",
    "grid = mols2grid.MolGrid(df,\n",
    "                         smiles_col='smiles',\n",
    "                         size=(300, 200))\n",
    "grid.display(n_cols=2, \n",
    "             n_rows=2,\n",
    "             tooltip=['smiles'])"
   ]
  },
  {
   "cell_type": "code",
   "execution_count": null,
   "metadata": {},
   "outputs": [],
   "source": [
    "gsmiles"
   ]
  },
  {
   "cell_type": "code",
   "execution_count": null,
   "metadata": {},
   "outputs": [],
   "source": [
    "gsmiles"
   ]
  },
  {
   "cell_type": "code",
   "execution_count": null,
   "metadata": {
    "tags": []
   },
   "outputs": [],
   "source": [
    "data = ScreeningData(datasource=db_url)\n",
    "all_smiles = data.fetch_gsmiles()\n",
    "smiles = []\n",
    "for details in all_smiles.values():\n",
    "    smiles.append(details['smiles'])\n",
    "\n",
    "# print(smiles)\n",
    "df = pd.DataFrame()\n",
    "df['smiles'] = list(smiles)\n",
    "grid = mols2grid.MolGrid(df,\n",
    "                         smiles_col='smiles',\n",
    "                         size=(250, 200))\n",
    "grid.display(n_cols=2, \n",
    "             n_rows=2,\n",
    "             tooltip=['smiles'])"
   ]
  },
  {
   "cell_type": "code",
   "execution_count": null,
   "metadata": {},
   "outputs": [],
   "source": [
    "gsmiles in smiles"
   ]
  }
 ],
 "metadata": {
  "kernelspec": {
   "display_name": "Python 3.10.4 64-bit",
   "language": "python",
   "name": "python3"
  },
  "language_info": {
   "codemirror_mode": {
    "name": "ipython",
    "version": 3
   },
   "file_extension": ".py",
   "mimetype": "text/x-python",
   "name": "python",
   "nbconvert_exporter": "python",
   "pygments_lexer": "ipython3",
   "version": "3.10.4"
  },
  "vscode": {
   "interpreter": {
    "hash": "31f2aee4e71d21fbe5cf8b01ff0e069b9275f58929596ceb00d14d90e3e16cd6"
   }
  }
 },
 "nbformat": 4,
 "nbformat_minor": 4
}
